{
  "nbformat": 4,
  "nbformat_minor": 0,
  "metadata": {
    "colab": {
      "provenance": [],
      "collapsed_sections": [],
      "authorship_tag": "ABX9TyMA51XsqdyDH9V6ZIj3RCjv",
      "include_colab_link": true
    },
    "kernelspec": {
      "name": "python3",
      "display_name": "Python 3"
    },
    "language_info": {
      "name": "python"
    }
  },
  "cells": [
    {
      "cell_type": "markdown",
      "metadata": {
        "id": "view-in-github",
        "colab_type": "text"
      },
      "source": [
        "<a href=\"https://colab.research.google.com/github/giakhangle/sohoa-gtdl/blob/main/lab1.ipynb\" target=\"_parent\"><img src=\"https://colab.research.google.com/assets/colab-badge.svg\" alt=\"Open In Colab\"/></a>"
      ]
    },
    {
      "cell_type": "markdown",
      "source": [
        "Nạp thư viện"
      ],
      "metadata": {
        "id": "cQ2qZT4txgKQ"
      }
    },
    {
      "cell_type": "code",
      "execution_count": 45,
      "metadata": {
        "id": "FcwWh1fIqS-I"
      },
      "outputs": [],
      "source": [
        "import sys\n",
        "import hashlib\n",
        "import json\n",
        "from time import time\n",
        "from uuid import uuid4\n",
        "\n",
        "from flask import Flask, jsonify, request\n",
        "import requests\n",
        "from urllib.parse import urlparse"
      ]
    },
    {
      "cell_type": "markdown",
      "source": [
        "Khai báo lớp Blockchain"
      ],
      "metadata": {
        "id": "tDbs14Ktxl6f"
      }
    },
    {
      "cell_type": "code",
      "source": [
        "class Blockchain(object):\n",
        "  difficulty_target = '0000'\n",
        "\n",
        "  def hash_block(self, block):\n",
        "    block_encoded = json.dumps(block_encoded, sort_keys=True).encode()\n",
        "    return hashlib.sha256(block_encoded).hexdigest()\n",
        "\n",
        "  def __int__(self):\n",
        "    #store all the blocks in the entire blockchain\n",
        "    self.chain = []\n",
        "\n",
        "    #temporarily stores the transactions for the current block\n",
        "    self.current_transactions = []\n",
        "\n",
        "    #create the genesis block with a sprcific fixed hash\n",
        "    #of previous block genesis block starts with index 0\n",
        "    genesis_hash = self.hash_block(\"genesis_block\")\n",
        "    self.append_block(hash_of_previous_block=genesis_hash,\n",
        "                      nonce=self.proof_of_work(0, genesis_hash, [1]))"
      ],
      "metadata": {
        "id": "DmWNgXFDuDRj"
      },
      "execution_count": 46,
      "outputs": []
    },
    {
      "cell_type": "markdown",
      "source": [
        "Hàm tìm Nonce\n"
      ],
      "metadata": {
        "id": "jHhcH9QCxppP"
      }
    },
    {
      "cell_type": "code",
      "source": [
        "def proof_of_work(self,index,hash_of_previous_block,transactions):\n",
        "  nonce = 0\n",
        "  #try hashing the nonce together with the hash of previous\n",
        "  #block until it is valid\n",
        "  while self.valid_proof(index,hash_of_previous_block,transactions,nonce) is False:\n",
        "    nonce +=1\n",
        "  return nonce"
      ],
      "metadata": {
        "id": "gF_Egv7awv1i"
      },
      "execution_count": 47,
      "outputs": []
    },
    {
      "cell_type": "markdown",
      "source": [
        "Hàm hash nội dung một block"
      ],
      "metadata": {
        "id": "mw4NB-oNycln"
      }
    },
    {
      "cell_type": "code",
      "source": [
        "def valid_proof(self,index,hash_of_previous_block,transactions,nonce):\n",
        "  #create a string containing the hash of the previous\n",
        "  #block and the block content, including the nonce\n",
        "  content=f'{index}{hash_of_previous_block}{transactions}{nonce}'.encoded()\n",
        "\n",
        "  #hash using sha256\n",
        "  content_hash=hashlib.sha256(content).hexdigest()\n",
        "\n",
        "  #check if the hash meets the difficulty target\n",
        "  return content_hash[:len(self.difficulty_target)]==self.difficulty_target"
      ],
      "metadata": {
        "id": "vn4VuHdkyehx"
      },
      "execution_count": 48,
      "outputs": []
    },
    {
      "cell_type": "markdown",
      "source": [
        "Hàm thêm 1 block vào blockchain"
      ],
      "metadata": {
        "id": "ZLkBabbSxrPn"
      }
    },
    {
      "cell_type": "code",
      "source": [
        "def append_block(self, nonce,hash_of_previous_block):\n",
        "  block={'index':len(self.chain),\n",
        "         'timestamp':time(),\n",
        "         'transactions':self.current_transactions,\n",
        "         'nonce':nonce,\n",
        "         'hash_of_previous_block':hash_of_previous_block}\n",
        "  #reset the current list of transactions\n",
        "  self.current_transactions = []\n",
        "\n",
        "  #add the new block to the blockchain\n",
        "  self.chain.append_block\n",
        "  return block"
      ],
      "metadata": {
        "id": "OB0Vrd2lxs8H"
      },
      "execution_count": 49,
      "outputs": []
    },
    {
      "cell_type": "markdown",
      "source": [
        "Thêm Transactions"
      ],
      "metadata": {
        "id": "TpHymlm0105x"
      }
    },
    {
      "cell_type": "code",
      "source": [
        "def add_transaction(self,sender,recipient,amount):\n",
        "  self.current_transactions.append({'amount':amount,\n",
        "                                    'recipient':recipient,\n",
        "                                    'sender':sender})\n",
        "  return self.last_block['index']+1"
      ],
      "metadata": {
        "id": "bIKkYF1X155Y"
      },
      "execution_count": 50,
      "outputs": []
    },
    {
      "cell_type": "markdown",
      "source": [
        "Hàm lấy index của block cuối cùng trong danh sách transaction"
      ],
      "metadata": {
        "id": "rF5gRUot2ipQ"
      }
    },
    {
      "cell_type": "code",
      "source": [
        "@property\n",
        "def last_block(self):\n",
        "  #return the last block in the blockchain\n",
        "  return self.chain[-1]"
      ],
      "metadata": {
        "id": "-7cNiDqL2jZo"
      },
      "execution_count": 51,
      "outputs": []
    },
    {
      "cell_type": "markdown",
      "source": [
        "Xuất Blochain class thành một REST API"
      ],
      "metadata": {
        "id": "Xo3KQsvG3DaC"
      }
    },
    {
      "cell_type": "code",
      "source": [
        "app = Flask(__name__)\n",
        "#generate a globally unique address for this node\n",
        "node_identifier=str(uuid4()).replace('-','')\n",
        "\n",
        "#instantiate the blockchain\n",
        "blockchain=Blockchain()"
      ],
      "metadata": {
        "id": "YFR4HD6F3GkS"
      },
      "execution_count": 52,
      "outputs": []
    },
    {
      "cell_type": "markdown",
      "source": [
        "Tạo hàm để user có thể lấy blockchain hiện hành"
      ],
      "metadata": {
        "id": "14xPm6n23wna"
      }
    },
    {
      "cell_type": "code",
      "source": [
        "#return the entire blockchain\n",
        "@app.route('/blockchain', methods=['GET'])\n",
        "def full_chain():\n",
        "  response={'chain':blockchain.chain,\n",
        "            'length':len(blockchain.chain)}\n",
        "  return jsonify(response),200"
      ],
      "metadata": {
        "id": "hoZDeEpf3xbp"
      },
      "execution_count": 53,
      "outputs": []
    },
    {
      "cell_type": "markdown",
      "source": [
        "Tạo hàm cho phép user thêm 1 block vào blockchain"
      ],
      "metadata": {
        "id": "wR6fWNe94YzZ"
      }
    },
    {
      "cell_type": "code",
      "source": [
        "@app.route('/mine',methods=['GET'])\n",
        "def mine_block():\n",
        "  blockchain.add_transaction(sender='0',\n",
        "                             recipident=node_identifier,\n",
        "                             amount=1,)\n",
        "  #obtain the hash of last block in the blockchain\n",
        "  last_block_hash=blockchain.hash_block(blockchain.last_block)\n",
        "  #using PoW, get the nonce for new block to be added\n",
        "  #to the blockchain\n",
        "  index=len(blockchain.chain)\n",
        "  nonce=blockchain.proof_of_work(index,last_block_hash,blockchain.current_transactions)\n",
        "\n",
        "  #add the new block to the blockchain using the last block\n",
        "  #hash and the current nonce\n",
        "  block=blockchain.append_block(nonce,last_block_hash)\n",
        "  response={'message':\"New Block Mined\",\n",
        "            'index':block['index'],\n",
        "            'hash_of previous_block':block['hash_of previous_block'],\n",
        "            'nonce':block['nonce'],\n",
        "            'transaction':block['transactions']}\n",
        "  return jsonify(response),200"
      ],
      "metadata": {
        "id": "RMbw6SIQ4ZpQ"
      },
      "execution_count": 54,
      "outputs": []
    },
    {
      "cell_type": "markdown",
      "source": [
        "Thêm 1 giao dịch vào block hiện hành"
      ],
      "metadata": {
        "id": "69ehc_UE8SD6"
      }
    },
    {
      "cell_type": "code",
      "source": [
        "@app.route('/transactions/new', methods=['POST'])\n",
        "def new_transaction():\n",
        "  #get the value passed in from the slient\n",
        "  values=request.get_json()\n",
        "  #check that the required fields are in the POST'ed data\n",
        "  required_fields=['sender','recipient','amount']\n",
        "  if not all(k in values for k in required_fields):\n",
        "    return ('Missing fields',400)\n",
        "  #create a new transaction\n",
        "  index=blockchain.add_transaction(values['sender'],\n",
        "                                   values['recipient'],\n",
        "                                   values['amount'])\n",
        "  response={'message':f'Transaction will be added to Block {index}'}\n",
        "  return (jsonify)"
      ],
      "metadata": {
        "id": "Kt3w-Y4l8Sh5"
      },
      "execution_count": null,
      "outputs": []
    },
    {
      "cell_type": "markdown",
      "source": [
        "Kiểm tra Blockchain đã tạo"
      ],
      "metadata": {
        "id": "GlgI4TTs-HNh"
      }
    },
    {
      "cell_type": "code",
      "source": [
        "if __name__==\"__main__\":\n",
        "  app.run()"
      ],
      "metadata": {
        "colab": {
          "base_uri": "https://localhost:8080/"
        },
        "id": "1ujRILQ4-I2h",
        "outputId": "0100d0bb-dd95-4878-9858-caaa9c1d4b30"
      },
      "execution_count": null,
      "outputs": [
        {
          "output_type": "stream",
          "name": "stdout",
          "text": [
            " * Serving Flask app \"__main__\" (lazy loading)\n",
            " * Environment: production\n",
            "\u001b[31m   WARNING: This is a development server. Do not use it in a production deployment.\u001b[0m\n",
            "\u001b[2m   Use a production WSGI server instead.\u001b[0m\n",
            " * Debug mode: off\n"
          ]
        },
        {
          "output_type": "stream",
          "name": "stderr",
          "text": [
            "INFO:werkzeug: * Running on http://127.0.0.1:5000/ (Press CTRL+C to quit)\n"
          ]
        }
      ]
    }
  ]
}